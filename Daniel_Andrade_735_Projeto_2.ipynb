{
 "cells": [
  {
   "cell_type": "markdown",
   "metadata": {
    "id": "kaHeaJAz-dSU"
   },
   "source": [
    "# Projeto 2 - NLP\n",
    "\n",
    "## Análise de sentimento de Tweets\n",
    "\n",
    "-----\n",
    "\n",
    "Nome: Daniel Vaz Andrade\n",
    "\n",
    "Turma: 735 DEGREE"
   ]
  },
  {
   "cell_type": "markdown",
   "metadata": {
    "id": "7rxx_qp2-dSg"
   },
   "source": [
    "### 1) Primeiro passo \n",
    "\n",
    "### Importação das Bibliotecas\n",
    "\n",
    "Atenção: fiz a divisão das importações em blocos para facilitar a execução e identificação daquelas que estão instaladas no computador."
   ]
  },
  {
   "cell_type": "markdown",
   "metadata": {
    "id": "2HdMeNxP-dSk"
   },
   "source": [
    "### 1.1) Bibliotecas de manipulação de dados e pre processamento"
   ]
  },
  {
   "cell_type": "code",
   "execution_count": 1,
   "metadata": {
    "id": "vwEvBSzY-dSp"
   },
   "outputs": [
    {
     "name": "stdout",
     "output_type": "stream",
     "text": [
      "Wall time: 13 s\n"
     ]
    }
   ],
   "source": [
    "%%time\n",
    "\n",
    "import pandas as pd\n",
    "import numpy as np\n",
    "import seaborn as sns\n",
    "import matplotlib.pyplot as plt\n",
    "import re\n",
    "import spacy\n",
    "from wordcloud import WordCloud\n",
    "from PIL import Image\n",
    "from sklearn.pipeline import Pipeline\n",
    "from sklearn.feature_extraction.text import CountVectorizer, TfidfVectorizer\n",
    "from gensim.models import Word2Vec,doc2vec\n",
    "from gensim.models.doc2vec import TaggedDocument\n",
    "import nltk\n",
    "from nltk.corpus import stopwords\n",
    "from nltk.tokenize import word_tokenize\n",
    "from nltk.stem import WordNetLemmatizer \n",
    "\n",
    "\n",
    "# Configuração para os gráficos (crédito ao Prof. André!!)\n",
    "sns.set(rc={'axes.labelsize': 10.0,'axes.titlecolor': 'black','axes.titleweight': 'bold',\n",
    "                    'axes.labelweight': 'bold','axes.titlesize': 14.0,'figure.figsize': [10,7],\n",
    "                    'figure.titlesize': 'xx-large','figure.titleweight': 'bold',})"
   ]
  },
  {
   "cell_type": "markdown",
   "metadata": {
    "id": "6WdG2Hm--dSu"
   },
   "source": [
    "### 1.2) Avaliação de modelos"
   ]
  },
  {
   "cell_type": "code",
   "execution_count": 2,
   "metadata": {
    "id": "gpx_D7Cz-dSv"
   },
   "outputs": [
    {
     "name": "stdout",
     "output_type": "stream",
     "text": [
      "Wall time: 167 ms\n"
     ]
    }
   ],
   "source": [
    "%%time\n",
    "\n",
    "from sklearn.model_selection import train_test_split,KFold,cross_validate,cross_val_score\n",
    "from mlxtend.plotting import plot_confusion_matrix\n",
    "from mlxtend.evaluate import confusion_matrix\n",
    "from sklearn.metrics import accuracy_score, precision_score, recall_score, f1_score,roc_auc_score,classification_report"
   ]
  },
  {
   "cell_type": "markdown",
   "metadata": {
    "id": "VQM5nO7C-dS0"
   },
   "source": [
    "### 1.3) Modelos de classificação"
   ]
  },
  {
   "cell_type": "code",
   "execution_count": 3,
   "metadata": {
    "colab": {
     "base_uri": "https://localhost:8080/",
     "height": 373
    },
    "id": "N0ec2ruM-dS1",
    "outputId": "2f85197e-7b98-4e4e-d82e-e9daee8eb9d4"
   },
   "outputs": [
    {
     "name": "stdout",
     "output_type": "stream",
     "text": [
      "Wall time: 1.59 s\n"
     ]
    }
   ],
   "source": [
    "%%time\n",
    "\n",
    "from sklearn.ensemble import RandomForestClassifier,GradientBoostingClassifier,AdaBoostClassifier\n",
    "from lightgbm import LGBMClassifier\n",
    "from catboost import CatBoostClassifier\n",
    "from sklearn.linear_model import LogisticRegression\n",
    "from xgboost import XGBClassifier"
   ]
  },
  {
   "cell_type": "markdown",
   "metadata": {
    "id": "XMXbBl93-dS3"
   },
   "source": [
    "### 1.4) Otimização de hiperparâmetros"
   ]
  },
  {
   "cell_type": "code",
   "execution_count": 4,
   "metadata": {
    "id": "dPBlHau8-dS5"
   },
   "outputs": [
    {
     "name": "stdout",
     "output_type": "stream",
     "text": [
      "Wall time: 708 ms\n"
     ]
    }
   ],
   "source": [
    "%%time\n",
    "\n",
    "# Mais uma vez crédito ao Prof. André pela indicação da biblioteca\n",
    "import optuna\n",
    "from optuna.visualization import plot_parallel_coordinate\n",
    "from optuna.visualization import plot_param_importances\n",
    "from optuna.visualization import plot_slice\n",
    "from optuna.visualization import plot_contour\n",
    "from optuna.visualization import plot_optimization_history"
   ]
  },
  {
   "cell_type": "markdown",
   "metadata": {
    "id": "HIWYYPZz-dS9"
   },
   "source": [
    "### 2) Segundo passo\n",
    "\n",
    "### Análise e tratamento dos dados"
   ]
  },
  {
   "cell_type": "code",
   "execution_count": 5,
   "metadata": {
    "id": "-DXzvKk2-dS-"
   },
   "outputs": [
    {
     "data": {
      "text/html": [
       "<div>\n",
       "<style scoped>\n",
       "    .dataframe tbody tr th:only-of-type {\n",
       "        vertical-align: middle;\n",
       "    }\n",
       "\n",
       "    .dataframe tbody tr th {\n",
       "        vertical-align: top;\n",
       "    }\n",
       "\n",
       "    .dataframe thead th {\n",
       "        text-align: right;\n",
       "    }\n",
       "</style>\n",
       "<table border=\"1\" class=\"dataframe\">\n",
       "  <thead>\n",
       "    <tr style=\"text-align: right;\">\n",
       "      <th></th>\n",
       "      <th>id</th>\n",
       "      <th>tweet_text</th>\n",
       "      <th>tweet_date</th>\n",
       "      <th>sentiment</th>\n",
       "      <th>query_used</th>\n",
       "    </tr>\n",
       "  </thead>\n",
       "  <tbody>\n",
       "    <tr>\n",
       "      <th>0</th>\n",
       "      <td>1049721159292346368</td>\n",
       "      <td>Rio elege maior bancada policial de sua histór...</td>\n",
       "      <td>Tue Oct 09 18:00:01 +0000 2018</td>\n",
       "      <td>2</td>\n",
       "      <td>folha</td>\n",
       "    </tr>\n",
       "    <tr>\n",
       "      <th>1</th>\n",
       "      <td>1046251157025423360</td>\n",
       "      <td>fiquei tão triste quando eu vi o preço da câme...</td>\n",
       "      <td>Sun Sep 30 04:11:28 +0000 2018</td>\n",
       "      <td>0</td>\n",
       "      <td>:(</td>\n",
       "    </tr>\n",
       "    <tr>\n",
       "      <th>2</th>\n",
       "      <td>1041744620206653440</td>\n",
       "      <td>Para Theresa May, seu plano para o Brexit é a ...</td>\n",
       "      <td>Mon Sep 17 17:44:06 +0000 2018</td>\n",
       "      <td>2</td>\n",
       "      <td>exame</td>\n",
       "    </tr>\n",
       "    <tr>\n",
       "      <th>3</th>\n",
       "      <td>1046937084727107589</td>\n",
       "      <td>caralho eu quero proteger a danielly em um pot...</td>\n",
       "      <td>Tue Oct 02 01:37:06 +0000 2018</td>\n",
       "      <td>0</td>\n",
       "      <td>:(</td>\n",
       "    </tr>\n",
       "    <tr>\n",
       "      <th>4</th>\n",
       "      <td>1047326854229778432</td>\n",
       "      <td>@SiCaetano_ viva o caos :)</td>\n",
       "      <td>Wed Oct 03 03:25:55 +0000 2018</td>\n",
       "      <td>1</td>\n",
       "      <td>:)</td>\n",
       "    </tr>\n",
       "    <tr>\n",
       "      <th>...</th>\n",
       "      <td>...</td>\n",
       "      <td>...</td>\n",
       "      <td>...</td>\n",
       "      <td>...</td>\n",
       "      <td>...</td>\n",
       "    </tr>\n",
       "    <tr>\n",
       "      <th>94995</th>\n",
       "      <td>1041831666883321856</td>\n",
       "      <td>Cuba e defensor de direitos humanos se unem co...</td>\n",
       "      <td>Mon Sep 17 23:30:00 +0000 2018</td>\n",
       "      <td>2</td>\n",
       "      <td>jornaloglobo</td>\n",
       "    </tr>\n",
       "    <tr>\n",
       "      <th>94996</th>\n",
       "      <td>1032352892194369536</td>\n",
       "      <td>#Oportunidade ➡️ Venha fazer parte da nossa eq...</td>\n",
       "      <td>Wed Aug 22 19:44:44 +0000 2018</td>\n",
       "      <td>2</td>\n",
       "      <td>#oportunidade</td>\n",
       "    </tr>\n",
       "    <tr>\n",
       "      <th>94997</th>\n",
       "      <td>1046785538542440448</td>\n",
       "      <td>@96syoo EU SEI 😭😭 é por isso que significa mui...</td>\n",
       "      <td>Mon Oct 01 15:34:55 +0000 2018</td>\n",
       "      <td>0</td>\n",
       "      <td>:(</td>\n",
       "    </tr>\n",
       "    <tr>\n",
       "      <th>94998</th>\n",
       "      <td>1045457469110177792</td>\n",
       "      <td>@louistsexhes N te conheço mas posta :D</td>\n",
       "      <td>Thu Sep 27 23:37:38 +0000 2018</td>\n",
       "      <td>1</td>\n",
       "      <td>:)</td>\n",
       "    </tr>\n",
       "    <tr>\n",
       "      <th>94999</th>\n",
       "      <td>1046239135286136832</td>\n",
       "      <td>meu deus :( https://t.co/BlXazxZeKq</td>\n",
       "      <td>Sun Sep 30 03:23:42 +0000 2018</td>\n",
       "      <td>0</td>\n",
       "      <td>:(</td>\n",
       "    </tr>\n",
       "  </tbody>\n",
       "</table>\n",
       "<p>95000 rows × 5 columns</p>\n",
       "</div>"
      ],
      "text/plain": [
       "                        id                                         tweet_text  \\\n",
       "0      1049721159292346368  Rio elege maior bancada policial de sua histór...   \n",
       "1      1046251157025423360  fiquei tão triste quando eu vi o preço da câme...   \n",
       "2      1041744620206653440  Para Theresa May, seu plano para o Brexit é a ...   \n",
       "3      1046937084727107589  caralho eu quero proteger a danielly em um pot...   \n",
       "4      1047326854229778432                         @SiCaetano_ viva o caos :)   \n",
       "...                    ...                                                ...   \n",
       "94995  1041831666883321856  Cuba e defensor de direitos humanos se unem co...   \n",
       "94996  1032352892194369536  #Oportunidade ➡️ Venha fazer parte da nossa eq...   \n",
       "94997  1046785538542440448  @96syoo EU SEI 😭😭 é por isso que significa mui...   \n",
       "94998  1045457469110177792            @louistsexhes N te conheço mas posta :D   \n",
       "94999  1046239135286136832                meu deus :( https://t.co/BlXazxZeKq   \n",
       "\n",
       "                           tweet_date  sentiment     query_used  \n",
       "0      Tue Oct 09 18:00:01 +0000 2018          2          folha  \n",
       "1      Sun Sep 30 04:11:28 +0000 2018          0             :(  \n",
       "2      Mon Sep 17 17:44:06 +0000 2018          2          exame  \n",
       "3      Tue Oct 02 01:37:06 +0000 2018          0             :(  \n",
       "4      Wed Oct 03 03:25:55 +0000 2018          1             :)  \n",
       "...                               ...        ...            ...  \n",
       "94995  Mon Sep 17 23:30:00 +0000 2018          2   jornaloglobo  \n",
       "94996  Wed Aug 22 19:44:44 +0000 2018          2  #oportunidade  \n",
       "94997  Mon Oct 01 15:34:55 +0000 2018          0             :(  \n",
       "94998  Thu Sep 27 23:37:38 +0000 2018          1             :)  \n",
       "94999  Sun Sep 30 03:23:42 +0000 2018          0             :(  \n",
       "\n",
       "[95000 rows x 5 columns]"
      ]
     },
     "metadata": {},
     "output_type": "display_data"
    },
    {
     "data": {
      "text/html": [
       "<div>\n",
       "<style scoped>\n",
       "    .dataframe tbody tr th:only-of-type {\n",
       "        vertical-align: middle;\n",
       "    }\n",
       "\n",
       "    .dataframe tbody tr th {\n",
       "        vertical-align: top;\n",
       "    }\n",
       "\n",
       "    .dataframe thead th {\n",
       "        text-align: right;\n",
       "    }\n",
       "</style>\n",
       "<table border=\"1\" class=\"dataframe\">\n",
       "  <thead>\n",
       "    <tr style=\"text-align: right;\">\n",
       "      <th></th>\n",
       "      <th>id</th>\n",
       "      <th>tweet_text</th>\n",
       "      <th>tweet_date</th>\n",
       "      <th>query_used</th>\n",
       "    </tr>\n",
       "  </thead>\n",
       "  <tbody>\n",
       "    <tr>\n",
       "      <th>0</th>\n",
       "      <td>1046764676707753987</td>\n",
       "      <td>Apartamento Vila Mariana Praça Monteiro dos Sa...</td>\n",
       "      <td>Mon Oct 01 14:12:01 +0000 2018</td>\n",
       "      <td>:)</td>\n",
       "    </tr>\n",
       "    <tr>\n",
       "      <th>1</th>\n",
       "      <td>1047329264943751169</td>\n",
       "      <td>@FalleNCS @BrasilGameShow quero 1x1 de scout. ...</td>\n",
       "      <td>Wed Oct 03 03:35:29 +0000 2018</td>\n",
       "      <td>:)</td>\n",
       "    </tr>\n",
       "    <tr>\n",
       "      <th>2</th>\n",
       "      <td>1045443874947313665</td>\n",
       "      <td>mais uma analógica no correio à minha espera :...</td>\n",
       "      <td>Thu Sep 27 22:43:37 +0000 2018</td>\n",
       "      <td>:)</td>\n",
       "    </tr>\n",
       "    <tr>\n",
       "      <th>3</th>\n",
       "      <td>1040484298711814144</td>\n",
       "      <td>Em festa de posse como presidente do STF, Toff...</td>\n",
       "      <td>Fri Sep 14 06:16:02 +0000 2018</td>\n",
       "      <td>folha</td>\n",
       "    </tr>\n",
       "    <tr>\n",
       "      <th>4</th>\n",
       "      <td>1045411876887306240</td>\n",
       "      <td>@thethiagor @jubsilva @GSCISA @GrupoMulheRIs A...</td>\n",
       "      <td>Thu Sep 27 20:36:28 +0000 2018</td>\n",
       "      <td>:)</td>\n",
       "    </tr>\n",
       "    <tr>\n",
       "      <th>...</th>\n",
       "      <td>...</td>\n",
       "      <td>...</td>\n",
       "      <td>...</td>\n",
       "      <td>...</td>\n",
       "    </tr>\n",
       "    <tr>\n",
       "      <th>4995</th>\n",
       "      <td>1049243861732794369</td>\n",
       "      <td>Não é nada demais , apenas a verdade :) — Oh.....</td>\n",
       "      <td>Mon Oct 08 10:23:25 +0000 2018</td>\n",
       "      <td>:)</td>\n",
       "    </tr>\n",
       "    <tr>\n",
       "      <th>4996</th>\n",
       "      <td>1039334757690163201</td>\n",
       "      <td>Veja o que é #FATO ou #FAKE na entrevista de A...</td>\n",
       "      <td>Tue Sep 11 02:08:10 +0000 2018</td>\n",
       "      <td>#fato</td>\n",
       "    </tr>\n",
       "    <tr>\n",
       "      <th>4997</th>\n",
       "      <td>1049286902577356801</td>\n",
       "      <td>@nattvieiira de quem???? queria ver, eu sai po...</td>\n",
       "      <td>Mon Oct 08 13:14:27 +0000 2018</td>\n",
       "      <td>:(</td>\n",
       "    </tr>\n",
       "    <tr>\n",
       "      <th>4998</th>\n",
       "      <td>1045349300744671232</td>\n",
       "      <td>ASSASSIN'S CREED ORIGINS: ENFRENTANDO OS IRMÃO...</td>\n",
       "      <td>Thu Sep 27 16:27:49 +0000 2018</td>\n",
       "      <td>:)</td>\n",
       "    </tr>\n",
       "    <tr>\n",
       "      <th>4999</th>\n",
       "      <td>1046943420210659328</td>\n",
       "      <td>a gnt conversava muito mas paramos :( te acho ...</td>\n",
       "      <td>Tue Oct 02 02:02:17 +0000 2018</td>\n",
       "      <td>:(</td>\n",
       "    </tr>\n",
       "  </tbody>\n",
       "</table>\n",
       "<p>5000 rows × 4 columns</p>\n",
       "</div>"
      ],
      "text/plain": [
       "                       id                                         tweet_text  \\\n",
       "0     1046764676707753987  Apartamento Vila Mariana Praça Monteiro dos Sa...   \n",
       "1     1047329264943751169  @FalleNCS @BrasilGameShow quero 1x1 de scout. ...   \n",
       "2     1045443874947313665  mais uma analógica no correio à minha espera :...   \n",
       "3     1040484298711814144  Em festa de posse como presidente do STF, Toff...   \n",
       "4     1045411876887306240  @thethiagor @jubsilva @GSCISA @GrupoMulheRIs A...   \n",
       "...                   ...                                                ...   \n",
       "4995  1049243861732794369  Não é nada demais , apenas a verdade :) — Oh.....   \n",
       "4996  1039334757690163201  Veja o que é #FATO ou #FAKE na entrevista de A...   \n",
       "4997  1049286902577356801  @nattvieiira de quem???? queria ver, eu sai po...   \n",
       "4998  1045349300744671232  ASSASSIN'S CREED ORIGINS: ENFRENTANDO OS IRMÃO...   \n",
       "4999  1046943420210659328  a gnt conversava muito mas paramos :( te acho ...   \n",
       "\n",
       "                          tweet_date query_used  \n",
       "0     Mon Oct 01 14:12:01 +0000 2018         :)  \n",
       "1     Wed Oct 03 03:35:29 +0000 2018         :)  \n",
       "2     Thu Sep 27 22:43:37 +0000 2018         :)  \n",
       "3     Fri Sep 14 06:16:02 +0000 2018      folha  \n",
       "4     Thu Sep 27 20:36:28 +0000 2018         :)  \n",
       "...                              ...        ...  \n",
       "4995  Mon Oct 08 10:23:25 +0000 2018         :)  \n",
       "4996  Tue Sep 11 02:08:10 +0000 2018      #fato  \n",
       "4997  Mon Oct 08 13:14:27 +0000 2018         :(  \n",
       "4998  Thu Sep 27 16:27:49 +0000 2018         :)  \n",
       "4999  Tue Oct 02 02:02:17 +0000 2018         :(  \n",
       "\n",
       "[5000 rows x 4 columns]"
      ]
     },
     "metadata": {},
     "output_type": "display_data"
    },
    {
     "name": "stdout",
     "output_type": "stream",
     "text": [
      "Wall time: 480 ms\n"
     ]
    }
   ],
   "source": [
    "%%time\n",
    "\n",
    "#Importando os arquivos em variáveis\n",
    "df_train = pd.read_csv('Train3Classes.csv')\n",
    "df_sub = pd.read_csv('Subm3Classes.csv')\n",
    "\n",
    "display(df_train,df_sub)"
   ]
  },
  {
   "cell_type": "markdown",
   "metadata": {
    "id": "LUvju6ug-dTE"
   },
   "source": [
    "Utilizaremos um Dataset obtido do Twitter com 100K postagens entre os dias 01/08/2018 e 20/10/2018. Cada postagem é classificada como **positiva**, **negativa** ou **neutra**.  \n",
    "\n",
    "Dois arquivos serão disponilizados para o desenvolvimento dos modelos, um para treino/validação e outro para submissão. Os arquivos se encontram na pasta */Dados/train* e */Dados/subm*, respectivamente.\n",
    "\n",
    "Descrição das colunas:\n",
    "\n",
    "- **id**: ID único para o tweet  \n",
    "- **tweet_text**: Texto da publicação no Twitter  \n",
    "- **tweet_date**: Data da publicação no Twitter  \n",
    "- **sentiment**: 0, se negativo; 1, se positivo; 2, se neutro  \n",
    "- **query_used**: Filtro utilizado para buscar a publicação"
   ]
  },
  {
   "cell_type": "code",
   "execution_count": 6,
   "metadata": {
    "id": "G5UbPSgQ-dTM"
   },
   "outputs": [
    {
     "name": "stdout",
     "output_type": "stream",
     "text": [
      "<class 'pandas.core.frame.DataFrame'>\n",
      "RangeIndex: 95000 entries, 0 to 94999\n",
      "Data columns (total 5 columns):\n",
      " #   Column      Non-Null Count  Dtype \n",
      "---  ------      --------------  ----- \n",
      " 0   id          95000 non-null  int64 \n",
      " 1   tweet_text  95000 non-null  object\n",
      " 2   tweet_date  95000 non-null  object\n",
      " 3   sentiment   95000 non-null  int64 \n",
      " 4   query_used  95000 non-null  object\n",
      "dtypes: int64(2), object(3)\n",
      "memory usage: 3.6+ MB\n",
      "<class 'pandas.core.frame.DataFrame'>\n",
      "RangeIndex: 5000 entries, 0 to 4999\n",
      "Data columns (total 4 columns):\n",
      " #   Column      Non-Null Count  Dtype \n",
      "---  ------      --------------  ----- \n",
      " 0   id          5000 non-null   int64 \n",
      " 1   tweet_text  5000 non-null   object\n",
      " 2   tweet_date  5000 non-null   object\n",
      " 3   query_used  5000 non-null   object\n",
      "dtypes: int64(1), object(3)\n",
      "memory usage: 156.4+ KB\n",
      "Wall time: 49 ms\n"
     ]
    },
    {
     "data": {
      "text/plain": [
       "(None, None)"
      ]
     },
     "execution_count": 6,
     "metadata": {},
     "output_type": "execute_result"
    }
   ],
   "source": [
    "%%time\n",
    "\n",
    "#Verificando as variáveis de cada dataset\n",
    "df_train.info(), df_sub.info()"
   ]
  },
  {
   "cell_type": "markdown",
   "metadata": {
    "id": "Am8DrsaE-dTN"
   },
   "source": [
    "#### Não temos dados perdidos. Mas ainda precisamos verificar por exemplo se existem dados duplicados."
   ]
  },
  {
   "cell_type": "code",
   "execution_count": 7,
   "metadata": {
    "id": "IpcyhMTL-dTO"
   },
   "outputs": [
    {
     "name": "stdout",
     "output_type": "stream",
     "text": [
      "<class 'pandas.core.frame.DataFrame'>\n",
      "Int64Index: 95000 entries, 0 to 94999\n",
      "Data columns (total 5 columns):\n",
      " #   Column      Non-Null Count  Dtype \n",
      "---  ------      --------------  ----- \n",
      " 0   id          95000 non-null  int64 \n",
      " 1   tweet_text  95000 non-null  object\n",
      " 2   tweet_date  95000 non-null  object\n",
      " 3   sentiment   95000 non-null  int64 \n",
      " 4   query_used  95000 non-null  object\n",
      "dtypes: int64(2), object(3)\n",
      "memory usage: 4.3+ MB\n",
      "<class 'pandas.core.frame.DataFrame'>\n",
      "Int64Index: 5000 entries, 0 to 4999\n",
      "Data columns (total 4 columns):\n",
      " #   Column      Non-Null Count  Dtype \n",
      "---  ------      --------------  ----- \n",
      " 0   id          5000 non-null   int64 \n",
      " 1   tweet_text  5000 non-null   object\n",
      " 2   tweet_date  5000 non-null   object\n",
      " 3   query_used  5000 non-null   object\n",
      "dtypes: int64(1), object(3)\n",
      "memory usage: 195.3+ KB\n",
      "Wall time: 189 ms\n"
     ]
    },
    {
     "data": {
      "text/plain": [
       "(None, None)"
      ]
     },
     "execution_count": 7,
     "metadata": {},
     "output_type": "execute_result"
    }
   ],
   "source": [
    "%%time\n",
    "\n",
    "#Criando um filtro para pegar os dados duplicados\n",
    "df_train = df_train.drop_duplicates()\n",
    "df_sub = df_sub.drop_duplicates()\n",
    "\n",
    "df_train.info(), df_sub.info()"
   ]
  },
  {
   "cell_type": "markdown",
   "metadata": {
    "id": "EwW1ijfp-dTU"
   },
   "source": [
    "Como o volume de dados segue inalterado, significa que não temos dados duplicados, pois o comando utilizado acima faria a deleção caso houvesse."
   ]
  },
  {
   "cell_type": "markdown",
   "metadata": {
    "id": "wosexFab-dTV"
   },
   "source": [
    "#### Vamos verificar quantos usuários estão nessa base com uma contagem dos ids com 'nunique'"
   ]
  },
  {
   "cell_type": "code",
   "execution_count": 8,
   "metadata": {
    "id": "NUVdQXoo-dTV",
    "scrolled": true
   },
   "outputs": [
    {
     "name": "stdout",
     "output_type": "stream",
     "text": [
      "==== Contagem de IDs únicos por dataframe ====\n",
      "df_train:  94987\n",
      "df_sub:  5000\n",
      "=============== FINALIZADA ===================\n",
      "Wall time: 14 ms\n"
     ]
    }
   ],
   "source": [
    "%%time\n",
    "print('==== Contagem de IDs únicos por dataframe ====')\n",
    "print(\"df_train: \", df_train['id'].nunique())\n",
    "print(\"df_sub: \", df_sub['id'].nunique())\n",
    "print('=============== FINALIZADA ===================')"
   ]
  },
  {
   "cell_type": "markdown",
   "metadata": {
    "id": "hNMkX5nI-dTW"
   },
   "source": [
    "#### Feita a análise, vamos agora realizar alguns tratamentos nos dados"
   ]
  },
  {
   "cell_type": "code",
   "execution_count": 9,
   "metadata": {
    "id": "wuO-YjaI-dTW"
   },
   "outputs": [
    {
     "name": "stdout",
     "output_type": "stream",
     "text": [
      "Wall time: 11 ms\n"
     ]
    }
   ],
   "source": [
    "%%time\n",
    "#Remover a coluna ID pois ela não acrescentará nenhuma informação relevante ao projeto\n",
    "\n",
    "df_train_final = df_train.drop(columns=['id'])\n",
    "df_sub_final = df_sub.drop(columns=['id'])\n",
    "\n",
    "#Renomeando as colunas\n",
    "\n",
    "df_train_final.columns = ['text','data','sentiment','query']\n",
    "df_sub_final.columns = ['text','data','query']"
   ]
  },
  {
   "cell_type": "markdown",
   "metadata": {
    "id": "_YZqHjbn-dTX"
   },
   "source": [
    "#### Vamos olhar para as hashtags mais usadas"
   ]
  },
  {
   "cell_type": "code",
   "execution_count": 10,
   "metadata": {
    "id": "ZNarJOFZ-dTX"
   },
   "outputs": [
    {
     "name": "stdout",
     "output_type": "stream",
     "text": [
      "Wall time: 6 ms\n"
     ]
    },
    {
     "data": {
      "text/plain": [
       ":(               31696\n",
       ":)               31678\n",
       "folha             5004\n",
       "estadao           3880\n",
       "#fato             3471\n",
       "g1                3439\n",
       "exame             3417\n",
       "#trabalho         3030\n",
       "#oportunidade     2455\n",
       "jornaloglobo      2374\n",
       "veja              2141\n",
       "#noticia          1114\n",
       "#novidade          920\n",
       "#curiosidade       381\n",
       "Name: query, dtype: int64"
      ]
     },
     "execution_count": 10,
     "metadata": {},
     "output_type": "execute_result"
    }
   ],
   "source": [
    "%%time\n",
    "df_train_final['query'].value_counts()"
   ]
  },
  {
   "cell_type": "markdown",
   "metadata": {
    "id": "rCBVqVGM-dTY"
   },
   "source": [
    "### 3) Terceiro passo\n",
    "\n",
    "### Pre Processamento"
   ]
  },
  {
   "cell_type": "code",
   "execution_count": 11,
   "metadata": {
    "id": "vTjekMov-dTb"
   },
   "outputs": [
    {
     "name": "stdout",
     "output_type": "stream",
     "text": [
      "Wall time: 84 ms\n"
     ]
    },
    {
     "data": {
      "text/plain": [
       "[Text(0, 0, 'Negativo'), Text(1, 0, 'Positivo'), Text(2, 0, 'Neutro')]"
      ]
     },
     "execution_count": 11,
     "metadata": {},
     "output_type": "execute_result"
    },
    {
     "data": {
      "image/png": "[encoded data removed]",
      "text/plain": [
       "<Figure size 720x504 with 1 Axes>"
      ]
     },
     "metadata": {},
     "output_type": "display_data"
    }
   ],
   "source": [
    "%%time\n",
    "\n",
    "#Fazendo um counplot do sentimento (0 para negativo, 1 para positivo e 2 para neutro)\n",
    "graph = sns.countplot(data=df_train_final,x='sentiment')\n",
    "graph.set_title('Quantidade de tweets por sentimento')\n",
    "graph.set_xticklabels(labels=['Negativo','Positivo','Neutro']);"
   ]
  },
  {
   "cell_type": "markdown",
   "metadata": {
    "id": "yb2Sgu6f-dTc"
   },
   "source": [
    "### Limpeza dos tweets\n",
    "\n",
    "#### Vamos criar uma função para realizar a limpeza nos datasets"
   ]
  },
  {
   "cell_type": "code",
   "execution_count": 12,
   "metadata": {
    "id": "JnM9YpPCGCGm"
   },
   "outputs": [
    {
     "name": "stdout",
     "output_type": "stream",
     "text": [
      "Wall time: 145 ms\n"
     ]
    },
    {
     "name": "stderr",
     "output_type": "stream",
     "text": [
      "[nltk_data] Downloading package stopwords to C:\\nltk_data...\n",
      "[nltk_data]   Package stopwords is already up-to-date!\n"
     ]
    },
    {
     "data": {
      "text/plain": [
       "True"
      ]
     },
     "execution_count": 12,
     "metadata": {},
     "output_type": "execute_result"
    }
   ],
   "source": [
    "%%time\n",
    "\n",
    "import nltk\n",
    "nltk.download('stopwords')"
   ]
  },
  {
   "cell_type": "code",
   "execution_count": 13,
   "metadata": {
    "id": "KTbxLG9k-dTf"
   },
   "outputs": [
    {
     "name": "stdout",
     "output_type": "stream",
     "text": [
      "Wall time: 3.13 s\n"
     ]
    }
   ],
   "source": [
    "%%time\n",
    "# Nesse ponto pode ser necessário realizar o download da pipeline treinada. Execute \"!python -m spacy download pt_core_news_lg\"\n",
    "\n",
    "nlp = spacy.load('pt_core_news_lg')\n",
    "stopwords_pt = stopwords.words('portuguese')\n",
    "\n",
    "def cleaning(row,nlp=nlp,stopwords=stopwords_pt):\n",
    "    '''Função recebe cada linha do dataset e realiza o pre processamento retornando uma lista de tokens'''\n",
    "    \n",
    "    #Colocando todas as palavras em minúsculo\n",
    "    row = row.lower()\n",
    "    #Removendo menções, links, carinhas, digitos, acentuação, caracteres_especiais\n",
    "    row = re.sub(r'@[a-zA-Z0-9_]{1,50}','',row)\n",
    "    row = re.sub(r'(https:\\/\\/.+)','',row)\n",
    "    row = row.replace(':d','')\n",
    "    row = row.replace(':p','')\n",
    "    row = re.sub(r'\\d+','',row)\n",
    "    #row = unidecode(row)\n",
    "    row = re.sub(r'[^a-zA-Z0-9]',' ',row)\n",
    "    row = re.sub(r'(\\w)\\1(\\1+)',r'\\1',row)\n",
    "    #Removendo os espaços do inicio e final de cada frase\n",
    "    row = row.strip()\n",
    "    #Tokenizando\n",
    "    doc = nlp(row)\n",
    "    #Removendo as stopwords:\n",
    "    row = [word for word in doc if word.text not in stopwords_pt]\n",
    "    #Removendo palavras que não tem lemma\n",
    "    row = [word.lemma_.strip() for word in row]\n",
    "    #Removendo elementos vazio \n",
    "    row = [word for word in row if word != '']\n",
    "    return row"
   ]
  },
  {
   "cell_type": "code",
   "execution_count": 14,
   "metadata": {
    "id": "UhBhCl3y-dTg"
   },
   "outputs": [
    {
     "data": {
      "text/plain": [
       "Index(['text', 'data', 'sentiment', 'query'], dtype='object')"
      ]
     },
     "metadata": {},
     "output_type": "display_data"
    },
    {
     "data": {
      "text/plain": [
       "Index(['text', 'data', 'query'], dtype='object')"
      ]
     },
     "metadata": {},
     "output_type": "display_data"
    },
    {
     "name": "stdout",
     "output_type": "stream",
     "text": [
      "Wall time: 5 ms\n"
     ]
    }
   ],
   "source": [
    "%%time\n",
    "display(df_train_final.columns, df_sub_final.columns)"
   ]
  },
  {
   "cell_type": "code",
   "execution_count": 15,
   "metadata": {
    "id": "36oXYJE--dTh"
   },
   "outputs": [
    {
     "name": "stdout",
     "output_type": "stream",
     "text": [
      "Criando cópias dos datasets para fazer a limpeza...em andamento\n",
      "Cópias criadas!\n",
      "Wall time: 9 ms\n"
     ]
    }
   ],
   "source": [
    "%%time\n",
    "\n",
    "print('Criando cópias dos datasets para fazer a limpeza...em andamento')\n",
    "df_train_clean = df_train_final.copy()\n",
    "df_sub_clean = df_sub_final.copy()\n",
    "print('Cópias criadas!')"
   ]
  },
  {
   "cell_type": "code",
   "execution_count": 16,
   "metadata": {
    "id": "Glrz0qV6-dTh"
   },
   "outputs": [
    {
     "name": "stdout",
     "output_type": "stream",
     "text": [
      "Wall time: 20min 48s\n"
     ]
    }
   ],
   "source": [
    "%%time\n",
    "\n",
    "#Aplicando a função de limpeza linha por linha e juntar essa lista de tokens\n",
    "df_train_clean['tweet_clean'] = df_train_clean['text'].apply(lambda x: cleaning(x))\n",
    "df_train_clean['tweet_joined'] = df_train_clean['tweet_clean'].apply(lambda x: ' '.join(x))\n",
    "\n",
    "df_sub_clean['tweet_clean'] = df_sub_clean['text'].apply(lambda x: cleaning(x))\n",
    "df_sub_clean['tweet_joined'] = df_sub_clean['tweet_clean'].apply(lambda x: ' '.join(x))"
   ]
  },
  {
   "cell_type": "markdown",
   "metadata": {
    "id": "Ur-6wRG2-dTi"
   },
   "source": [
    "Datasets preparados."
   ]
  },
  {
   "cell_type": "markdown",
   "metadata": {
    "id": "J7jajo54-dTi"
   },
   "source": [
    "### Passo 4: Modelagem"
   ]
  },
  {
   "cell_type": "markdown",
   "metadata": {
    "id": "hnpPs7Ce-dTj"
   },
   "source": [
    "## Baseline"
   ]
  },
  {
   "cell_type": "code",
   "execution_count": 17,
   "metadata": {
    "id": "8G_wY6xM-dTj"
   },
   "outputs": [
    {
     "name": "stdout",
     "output_type": "stream",
     "text": [
      "Wall time: 0 ns\n"
     ]
    }
   ],
   "source": [
    "%%time\n",
    "\n",
    "#Train_test_split\n",
    "def baseline_transform(models,X=df_train_clean['tweet_joined'],y=df_train_clean['sentiment'],verbose=False):\n",
    "\n",
    "    #Dicionário de métricas de avaliação para cada modelo\n",
    "    models_dict = {}\n",
    "    #Lista de métricas de avaliação que usaremos\n",
    "    metrics = ['recall_weighted','precision_weighted','f1_weighted','accuracy','roc_auc_ovr']\n",
    "    \n",
    "    if verbose:\n",
    "        print(\"===== Fitando os modelos =====\")\n",
    "    #Loop para cada modelo\n",
    "    for model in models:\n",
    "        if verbose:\n",
    "            print(f\"Fit do modelo {model} em andamento...\")\n",
    "        #Criando o pipeline\n",
    "        pipe = Pipeline(steps=[('vect',CountVectorizer()),\n",
    "                                (model,models[model])])\n",
    "        #Fazendo a validação cruzada\n",
    "        scores = cross_validate(pipe,X,y,cv=5,scoring=metrics,return_train_score=True,n_jobs=-1)\n",
    "\n",
    "        # Dicionário com as métricas de cada modelo                    \n",
    "        models_dict[model] = {'recall_test': scores['test_recall_weighted'].mean(),\n",
    "                                     'recall_train': scores['train_recall_weighted'].mean(),\n",
    "                                     'precision_test': scores['test_precision_weighted'].mean(),\n",
    "                                     'precision_train': scores['train_precision_weighted'].mean(),\n",
    "                                     'f1_test': scores['test_f1_weighted'].mean(),\n",
    "                                     'f1_train': scores['train_f1_weighted'].mean(),\n",
    "                                     'accuracy_test': scores['test_accuracy'].mean(),\n",
    "                                     'accuracy_train': scores['train_accuracy'].mean(),\n",
    "                                     'roc_auc_test': scores['test_roc_auc_ovr'].mean(),\n",
    "                                     'roc_auc_train': scores['train_roc_auc_ovr'].mean(),\n",
    "                                    }\n",
    "        if verbose:\n",
    "            print(f\"Fit do modelo {model} finalizado\")                    \n",
    "    tabela = pd.DataFrame(models_dict)\n",
    "    return tabela"
   ]
  },
  {
   "cell_type": "code",
   "execution_count": null,
   "metadata": {
    "id": "Aaqp63ef-dTl"
   },
   "outputs": [
    {
     "name": "stdout",
     "output_type": "stream",
     "text": [
      "===== Fitando os modelos =====\n",
      "Fit do modelo Random Forest em andamento...\n",
      "Fit do modelo Random Forest finalizado\n",
      "Fit do modelo Gradiente Boost em andamento...\n",
      "Fit do modelo Gradiente Boost finalizado\n",
      "Fit do modelo Regressão Logística em andamento...\n",
      "Fit do modelo Regressão Logística finalizado\n",
      "Fit do modelo XGBoost em andamento...\n",
      "Fit do modelo XGBoost finalizado\n",
      "Fit do modelo Catboost em andamento...\n"
     ]
    }
   ],
   "source": [
    "%%time\n",
    "\n",
    "#Dicionário de modelos\n",
    "models = {  'Random Forest': RandomForestClassifier(random_state=43,n_jobs=-1),\n",
    "            'Gradiente Boost': GradientBoostingClassifier(random_state=43),\n",
    "            'Regressão Logística': LogisticRegression(random_state=43),\n",
    "            'XGBoost': XGBClassifier(random_state=43,eval_metric='logloss',use_label_encoder=False,n_jobs=-1),\n",
    "            'Catboost': CatBoostClassifier(random_state=43,verbose=False)\n",
    "         }\n",
    "\n",
    "baseline_table = baseline_transform(models,verbose=True)"
   ]
  },
  {
   "cell_type": "code",
   "execution_count": null,
   "metadata": {
    "id": "KbhvQ2r0-dTn"
   },
   "outputs": [],
   "source": [
    "baseline_table"
   ]
  },
  {
   "cell_type": "markdown",
   "metadata": {
    "id": "P8BOnxGF-dTp"
   },
   "source": [
    "**Análise dos resultados**\n",
    "\n",
    "1) Vamos desconsiderar o Random Forest devido ao overfitting no treino (roc_auc_train = 0.99).\n",
    "\n",
    "2) A métrica de escolha será o *precision* e o modelo será Regressão Logística (0.89) pois nosso objetivo é classificar corretamente os sentimentos nos tweets.\n",
    "\n"
   ]
  },
  {
   "cell_type": "markdown",
   "metadata": {
    "id": "_XI2swfY-dTq"
   },
   "source": [
    "Vamos testar diferentes transformações de dados:\n",
    "\n",
    "1) Word2Vec\n",
    "\n",
    "2) Doc2Vec\n",
    "\n",
    "3) Bag of words\n",
    "\n",
    "4) TF-IDF\n"
   ]
  },
  {
   "cell_type": "markdown",
   "metadata": {
    "id": "alVMxFEM-dTw"
   },
   "source": [
    "## Transformações"
   ]
  },
  {
   "cell_type": "code",
   "execution_count": null,
   "metadata": {
    "id": "mlvN7VHC-dTx"
   },
   "outputs": [],
   "source": [
    "%%time\n",
    "\n",
    "def word2vec(x,model):\n",
    "    '''Função para criar as amostras de teste e treino do word2vec'''\n",
    "    X_w2v_sn = [] #lista para somar os vetores\n",
    "    for phrase in x:\n",
    "        vecs = []\n",
    "        for word in phrase:\n",
    "            if word in model.wv.index_to_key:\n",
    "                vecs.append(model.wv.get_vector(word))\n",
    "        if vecs:\n",
    "            soma_normalizada = np.sum(vecs, axis=0) / np.linalg.norm(np.sum(vecs, axis=0))\n",
    "            X_w2v_sn.append(soma_normalizada)\n",
    "        else:\n",
    "            X_w2v_sn.append(np.zeros(model.vector_size))\n",
    "    return np.array(X_w2v_sn)\n",
    "\n",
    "print('Criando o X e o Y que serão usados nas transformações de bag of words e TF-IDF')\n",
    "X = df_train_clean['tweet_joined'].copy()\n",
    "y = df_train_clean['sentiment'].copy()\n",
    "print('Criado com sucesso!')\n",
    "\n",
    "print('Iterando o treino para o bag of words e para o TF-IDF ...em andamento')\n",
    "X_train, X_test, y_train, y_test = train_test_split(X, y, test_size = 0.3, random_state = 42)\n",
    "print('Finalizado!')\n",
    "\n",
    "print('Iterando o treino para o Word2Vec ...em andamento')\n",
    "X_train_, X_test_, y_train_, y_test_ = train_test_split(X, y, test_size = 0.3, random_state = 42)\n",
    "print('Finalizado!')\n",
    "\n",
    "print('Criando o X e o Y que serão usados nas transformações de word2vec...em andamento')\n",
    "X_ = df_train_clean['tweet_clean'].copy()\n",
    "y_ = df_train_clean['sentiment'].copy()\n",
    "print('Finalizado!')\n",
    "\n",
    "print('Criando a Bag of words...em andamento')\n",
    "cv = CountVectorizer()\n",
    "X_train_cv = cv.fit_transform(X_train)\n",
    "X_test_cv = cv.transform(X_test)\n",
    "print('Criado com sucesso')\n",
    "\n",
    "print('Criando o TF-IDF...em andamento')\n",
    "tfidf = TfidfVectorizer()\n",
    "X_train_tfidf = tfidf.fit_transform(X_train)\n",
    "X_test_tfid = tfidf.transform(X_test)\n",
    "print('Criado com sucesso!')\n",
    "\n",
    "print('Criando o Word2Vec skipgram...em andamento')\n",
    "w2v_s = Word2Vec(sentences= X_train_, min_count=5, workers=-1,sg=1)\n",
    "X_train_w2v_sn_skip = word2vec(X_train_,model=w2v_s)\n",
    "X_test_w2v_sn_skip = word2vec(X_test_,model=w2v_s)\n",
    "print('Criado com sucesso!')\n",
    "\n",
    "print('Criando Word2Vec cbow...em andamento')\n",
    "w2v_c = Word2Vec(sentences=X_train_, vector_size=500, min_count=5, workers=-1,sg=0)\n",
    "X_train_w2v_sn_cbow = word2vec(X_train_,model=w2v_c)\n",
    "X_test_w2v_sn_cbow = word2vec(X_test_,model=w2v_c)\n",
    "print('Criado com sucesso')"
   ]
  },
  {
   "cell_type": "code",
   "execution_count": null,
   "metadata": {
    "id": "7YttFju6-dTy"
   },
   "outputs": [],
   "source": [
    "def test_transformers(transformers_dict,model):\n",
    "    '''Testa as transformações no dataset usando a regressão logística como modelo padrão'''\n",
    "    \n",
    "    #Dicionário de métricas para cada transformador\n",
    "    transformers_metrics = {}\n",
    "    \n",
    "    #Lista de métricas a serem avaliadas\n",
    "    metrics = ['recall_weighted','precision_weighted','f1_weighted','accuracy','roc_auc_ovr']\n",
    "\n",
    "    #Loop para testar todas as transformações\n",
    "    for transformer,train_test_sets in transformers_dict.items():\n",
    "        print(transformer.upper())\n",
    "        print(f'Treinando {transformer}')\n",
    "        \n",
    "        #Fazendo a validação cruzada (usando somente a base de treino)\n",
    "        scores = cross_validate(model,train_test_sets['X_train'],train_test_sets['y_train'],cv=5,scoring=metrics,n_jobs=-1) #aqui está ocorrendo target leadk da base de validação para a base de treino e precisará ser corrigido em uma revisão do projeto\n",
    "        print(f'Treinamento com {transformer} finalizado')\n",
    "\n",
    "\n",
    "        print(f'Testando {transformer}')\n",
    "        #Fitando o modelo agora com toda a base de treino\n",
    "        model.fit(train_test_sets['X_train'], train_test_sets['y_train'])\n",
    "        #Predizendo com a base de teste \n",
    "        y_pred_test = model.predict(train_test_sets['X_test'])\n",
    "        #Predizendo a probabilidade de cada label\n",
    "        y_pred_test_prob = model.predict_proba(train_test_sets['X_test'])\n",
    "\n",
    "        #Calculando as métricas de avaliação do teste\n",
    "        accuracy_test = accuracy_score(train_test_sets['y_test'], y_pred_test)\n",
    "        precision_test = precision_score(train_test_sets['y_test'], y_pred_test, average='weighted')\n",
    "        recall_test = recall_score(train_test_sets['y_test'], y_pred_test, average='weighted')\n",
    "        f1_test = f1_score(train_test_sets['y_test'], y_pred_test, average='weighted')\n",
    "        auc_test = roc_auc_score(train_test_sets['y_test'], y_pred_test_prob,multi_class='ovr')\n",
    "                \n",
    "        # Dicionário com as métricas de cada modelo                    \n",
    "        transformers_metrics[transformer] = {'recall_test': recall_test,\n",
    "                                     'recall_train': scores['test_recall_weighted'].mean(),\n",
    "                                     'precision_test': precision_test,\n",
    "                                     'precision_train': scores['test_precision_weighted'].mean(),\n",
    "                                     'f1_test': f1_test,\n",
    "                                     'f1_train': scores['test_f1_weighted'].mean(),\n",
    "                                     'accuracy_test': accuracy_test,\n",
    "                                     'accuracy_train': scores['test_accuracy'].mean(),\n",
    "                                     'roc_auc_test': auc_test,\n",
    "                                     'roc_auc_train': scores['test_roc_auc_ovr'].mean(),\n",
    "                                    }\n",
    "        print(f'Teste com {transformer} finalizado')\n",
    "\n",
    "        print('RESULTADO DA CLASSIFICAÇÃO' )   \n",
    "        print(classification_report(train_test_sets['y_test'],y_pred_test))\n",
    "    \n",
    "\n",
    "        \n",
    "    table = pd.DataFrame(transformers_metrics)\n",
    "    return table\n",
    "\n",
    "print('Criando dicionário de transformadores com suas bases')\n",
    "transformers_train_test_sets = {'bag of words':{'X_train':X_train_cv,\n",
    "                                                'X_test':X_test_cv,\n",
    "                                                'y_train':y_train,\n",
    "                                                'y_test':y_test},\n",
    "\n",
    "                                        'TF-IDF':{'X_train':X_train_tfidf,\n",
    "                                                'X_test':X_test_tfid,\n",
    "                                                'y_train':y_train,\n",
    "                                                'y_test':y_test},\n",
    "\n",
    "                            'Word2Vec skipgram':{'X_train':X_train_w2v_sn_skip,\n",
    "                                                'X_test':X_test_w2v_sn_skip,\n",
    "                                                'y_train':y_train_,\n",
    "                                                'y_test':y_test_},\n",
    "\n",
    "                                'Word2Vec cbow':{'X_train':X_train_w2v_sn_cbow,\n",
    "                                                'X_test':X_test_w2v_sn_cbow,\n",
    "                                                'y_train':y_train_,\n",
    "                                                'y_test':y_test_}}\n",
    "print('Dicionário criado com sucesso!')"
   ]
  },
  {
   "cell_type": "code",
   "execution_count": null,
   "metadata": {
    "id": "XBkYmUf3-dTz"
   },
   "outputs": [],
   "source": [
    "# Iterando o modelo de Regressão Logística\n",
    "modelo = LogisticRegression()\n",
    "table = test_transformers(transformers_train_test_sets, modelo)"
   ]
  },
  {
   "cell_type": "code",
   "execution_count": null,
   "metadata": {
    "id": "B-hbkKC1-dT0"
   },
   "outputs": [],
   "source": [
    "#Visualizando a tabela criada\n",
    "table"
   ]
  },
  {
   "cell_type": "markdown",
   "metadata": {
    "id": "sheFGkCc-dT2"
   },
   "source": [
    "## Melhorar o preprocessamento"
   ]
  },
  {
   "cell_type": "markdown",
   "metadata": {
    "id": "ulPL0gMp-dT2"
   },
   "source": [
    "Melhorar o preprocessamento pode melhorar o modelo. Para atingir esse resultado, faremos a remoção de stop-words escritas incorretamente."
   ]
  },
  {
   "cell_type": "code",
   "execution_count": null,
   "metadata": {
    "id": "MbLxT2nv-dT2"
   },
   "outputs": [],
   "source": [
    "#Palavras escritas de forma errada\n",
    "wrong_words = ['pra','to','mt','eh','tbm','pro','ta','tava','nao','n','q','k','r','voce','voces','vc','ja','p','so']\n",
    "\n",
    "#Adicionando as 'wrong_words' nas stopwords\n",
    "stopwords_pt = stopwords_pt + wrong_words\n",
    "\n",
    "def pre_process_update(row,nlp=nlp,stopwords=stopwords_pt):\n",
    "    '''Função recebe cada linha do dataset, realiza o pre processamento e retorna tokens'''\n",
    "    #Removendo menções\n",
    "    row = re.sub(r'@[a-zA-Z0-9_]{1,50}','',row)\n",
    "    #Removendo o links:\n",
    "    row = re.sub(r'(https:\\/\\/.+)','',row)\n",
    "    #Colocando todas as palavras em minúsculo\n",
    "    row = row.lower()\n",
    "    #Removendo todos os :d (sorriso) ou sorriso:p\n",
    "    row = row.replace(':d','')\n",
    "    row = row.replace(':p','')\n",
    "    #Removendo os digitos\n",
    "    row = re.sub(r'\\d+','',row)\n",
    "    #Removendo os caracteres especiais\n",
    "    row = re.sub(r'[^a-zA-Z0-9]',' ',row)\n",
    "    #Removendo caracteres repetidos 3 ou mais vezes\n",
    "    row = re.sub(r'(\\w)\\1(\\1+)',r'\\1',row)\n",
    "    #Removendo os espaços do inicio e final de cada frase\n",
    "    row = row.strip()\n",
    "    #Tokenizando\n",
    "    doc = nlp(row)\n",
    "    #Removendo as stopwords:\n",
    "    row = [word for word in doc if word.text not in stopwords_pt]\n",
    "    #Removendo palavras que não tem lemma\n",
    "    row = [word.lemma_.strip() for word in row]\n",
    "    #Removendo elementos vazio \n",
    "    row = [word for word in row if word != '']\n",
    "    return row"
   ]
  },
  {
   "cell_type": "code",
   "execution_count": null,
   "metadata": {
    "id": "1No4bvgy-dT3"
   },
   "outputs": [],
   "source": [
    "print('Criando cópias do dataset limpo...em andamento')\n",
    "words_train_clean_update = df_train_clean.copy() #Treino\n",
    "words_sub_clean_update = df_sub_clean.copy() #Teste\n",
    "print('Criadas com sucesso!')\n",
    "\n",
    "print('Aplicando a função de pre-processamento...em andamento')\n",
    "words_train_clean_update['tweet_clean'] = words_train_clean_update['text'].apply(lambda x: pre_process_update(x))\n",
    "words_sub_clean_update['tweet_clean'] = words_sub_clean_update['text'].apply(lambda x: pre_process_update(x))\n",
    "print('Finalizado com sucesso!')\n",
    "\n",
    "print('Juntando os tokens em uma string...em andamento')\n",
    "words_train_clean_update['tweet_joined'] = words_train_clean_update['tweet_clean'].apply(lambda x: ' '.join(x))\n",
    "words_sub_clean_update['tweet_joined'] = words_sub_clean_update['tweet_clean'].apply(lambda x: ' '.join(x))\n",
    "print('Finalizado com sucesso!')"
   ]
  },
  {
   "cell_type": "markdown",
   "metadata": {
    "id": "IIJzBoPV-dT9"
   },
   "source": [
    "Vamos verificar se os resultados irão melhorar (update)"
   ]
  },
  {
   "cell_type": "code",
   "execution_count": null,
   "metadata": {
    "id": "jsOaKqWu-dT9"
   },
   "outputs": [],
   "source": [
    "table_after_preprocess_update = baseline_transform(models,words_train_clean_update['tweet_joined'],words_train_clean_update['sentiment'],verbose=True)"
   ]
  },
  {
   "cell_type": "code",
   "execution_count": null,
   "metadata": {
    "id": "a7KPfFYw-dT9"
   },
   "outputs": [],
   "source": [
    "table_after_preprocess_update"
   ]
  },
  {
   "cell_type": "markdown",
   "metadata": {
    "id": "xztxhBvd-dT_"
   },
   "source": [
    "A melhoria do pre-processamento não otimizou os resultados."
   ]
  },
  {
   "cell_type": "code",
   "execution_count": null,
   "metadata": {
    "id": "0LMgA95t-dUA"
   },
   "outputs": [],
   "source": [
    "# Repetindo o mesmo processo de criação dos datasets para treinamento e teste com os transformadores\n",
    "# porém após o novo pre processamento\n",
    "\n",
    "print('Criando o X e o Y que usaremos nas transformações de bag of words e TF-IDF...em andamento')\n",
    "X_up = words_train_clean_update['tweet_joined'].copy()\n",
    "y_up = words_train_clean_update['sentiment'].copy()\n",
    "print('Finalizado!')\n",
    "\n",
    "\n",
    "print('Treino para o bag of words e para o TF-IDF...em andamento')\n",
    "X_train_up, X_test_up, y_train_up, y_test_up = train_test_split(X_up, y_up, test_size = 0.3, random_state = 42)\n",
    "\n",
    "print('Criando o X e o Y que usaremos nas transformações de word2vec...')\n",
    "X_up_ = words_train_clean_update['tweet_clean'].copy()\n",
    "y_up_ = words_train_clean_update['sentiment'].copy()\n",
    "print('Finalizado!')\n",
    "\n",
    "#Fazendo as transformações em cada dataset de treino e teste cada transformação\n",
    "\n",
    "print('Criando a Bag of words...em andamento')\n",
    "cv = CountVectorizer()\n",
    "X_train_cv_up = cv.fit_transform(X_train_up)\n",
    "X_test_cv_up = cv.transform(X_test_up)\n",
    "print(\"Bag of words criado!\")\n",
    "\n",
    "print('Criando TF-IDF...em andamento')\n",
    "tfidf = TfidfVectorizer()\n",
    "X_train_tfidf_up = tfidf.fit_transform(X_train_up)\n",
    "X_test_tfid_up = tfidf.transform(X_test_up)\n",
    "print('TF-IDF criado!')\n",
    "\n",
    "print('Criando Word2Vec skipgram...em andamento')\n",
    "w2v_s = Word2Vec(sentences=X_train_up_, vector_size=500, min_count=5, workers=-1,sg=1)\n",
    "X_train_w2v_sn_skip_up = word2vec(X_train_up_,model=w2v_s)\n",
    "X_test_w2v_sn_skip_up = word2vec(X_test_up_,model=w2v_s)\n",
    "print('Word2Vec skipgram criado!')\n",
    "\n",
    "print('Criando Word2Vec cbow...em andamento')\n",
    "w2v_c = Word2Vec(sentences=X_train_up_, vector_size=500, min_count=5, workers=-1,sg=0)\n",
    "X_train_w2v_sn_cbow_up = word2vec(X_train_up_,model=w2v_c)\n",
    "X_test_w2v_sn_cbow_up = word2vec(X_test_up_,model=w2v_c)\n",
    "print('Word2Vec cbow criado!')"
   ]
  },
  {
   "cell_type": "code",
   "execution_count": null,
   "metadata": {
    "id": "Kl18igBR-dUB"
   },
   "outputs": [],
   "source": [
    "#Dicionário de transformadores com suas respectivas bases\n",
    "transformers_train_test_sets_up = {'bag of words':{'X_train':X_train_cv_up,\n",
    "                                                'X_test':X_test_cv_up,\n",
    "                                                'y_train':y_train_up,\n",
    "                                                'y_test':y_test_up},\n",
    "\n",
    "                                        'TF-IDF':{'X_train':X_train_tfidf_up,\n",
    "                                                'X_test':X_test_tfid_up,\n",
    "                                                'y_train':y_train_up,\n",
    "                                                'y_test':y_test_up},\n",
    "\n",
    "                            'Word2Vec skipgram':{'X_train':X_train_w2v_sn_skip_up,\n",
    "                                                'X_test':X_test_w2v_sn_skip_up,\n",
    "                                                'y_train':y_train_up_,\n",
    "                                                'y_test':y_test_up_},\n",
    "\n",
    "                                'Word2Vec cbow':{'X_train':X_train_w2v_sn_cbow_up,\n",
    "                                                'X_test':X_test_w2v_sn_cbow_up,\n",
    "                                                'y_train':y_train_up_,\n",
    "                                                 'y_test':y_test_up_}}\n",
    "\n",
    "\n",
    "# Iterando a regressão logística\n",
    "modelo_rl = LogisticRegression()\n",
    "table_up = test_transformers(transformers_train_test_sets_up, modelo_rl)"
   ]
  },
  {
   "cell_type": "code",
   "execution_count": null,
   "metadata": {
    "id": "takrAosM-dUC"
   },
   "outputs": [],
   "source": [
    "# Visualizando a tabela mais uma vez\n",
    "table_up"
   ]
  },
  {
   "attachments": {
    "image.png": {
     "image/png": "[encoded data removed]"
    }
   },
   "cell_type": "markdown",
   "metadata": {},
   "source": [
    "![image.png](attachment:image.png)"
   ]
  },
  {
   "cell_type": "markdown",
   "metadata": {
    "id": "cnHrCZ8y-dUC"
   },
   "source": [
    "A escolha pela \"precision\" nos direciona ao TF-IDF."
   ]
  },
  {
   "cell_type": "markdown",
   "metadata": {
    "id": "MFP9k7D6-dUE"
   },
   "source": [
    "## Otimizando os modelos"
   ]
  },
  {
   "cell_type": "code",
   "execution_count": null,
   "metadata": {
    "id": "LcS8EuGk-dUE"
   },
   "outputs": [],
   "source": [
    "# X_train\n",
    "transformers_train_test_sets['TF-IDF']['X_train']"
   ]
  },
  {
   "cell_type": "code",
   "execution_count": null,
   "metadata": {
    "id": "ScB40P5E-dUF"
   },
   "outputs": [],
   "source": [
    "# Y_train\n",
    "transformers_train_test_sets['TF-IDF']['y_train']"
   ]
  },
  {
   "cell_type": "markdown",
   "metadata": {
    "id": "AZUgQIUi-dUF"
   },
   "source": [
    "Para otimização usaremos o **Optuna** com os seguintes hiperparâmetros de tunning: \n",
    "\n",
    "(você encontra a referência dos parâmetros abaixo no link https://optuna.org/)\n",
    "\n",
    "- max_iter: número máximo de interações para o algorítmo convergir ao máximium likelyhood\n",
    "- warm_start: com esse parâmetro o algorítmo usa as soluções anteriores para realizar as próximas soluções\n",
    "- penalty: tipo de penalidade que usaremos, podendo ser nenhuma, l1(lasso),l2(ridge) e elasticnet\n",
    "- tol: tolerancia do critério de parada, ou seja, a partir de quanto o modelo irá parar se não estiver havendo melhora\n",
    "- C: inverso da força da regularização. Quanto maior, menor será a força da regularização\n",
    "- l1_ratio: parâmetro para a penalização elasticnet. Se esse parâmetro for 0 ou 1 é equivalente a usar o l2 ou o l1,respectivamente.\n",
    "- solver: tipo de solver utilizado. Lendo a documentação vemos que os métodos 'saga' e 'sag' são melhores para data sets grandes. Considerando o tempo que o optuna está levando para fazer cada trial, vamos considerar nosso dataset grande e usaremos somente o método saga para conseguir usarar todas as penalizações\n",
    "\n",
    "**Créditos do Optuna (atendendo aos criadores):**\n",
    "\n",
    ">Takuya Akiba, Shotaro Sano, Toshihiko Yanase, Takeru Ohta,and Masanori Koyama. 2019.\n",
    "\n",
    ">Optuna: A Next-generation Hyperparameter Optimization Framework. In KDD."
   ]
  },
  {
   "cell_type": "code",
   "execution_count": null,
   "metadata": {
    "id": "RR2XfBIf-dUH"
   },
   "outputs": [],
   "source": [
    "# Função otimizadora\n",
    "\n",
    "def optimize(trial):\n",
    "    #Dicionário com o grid de parâmetros\n",
    "    params = dict(\n",
    "        penalty = trial.suggest_categorical('penalty',['none','l1','l2','elasticnet']),\n",
    "        tol = trial.suggest_float('tol',1e-4,1e-2,log=True),\n",
    "        C = trial.suggest_float('C',1,3.5),\n",
    "        max_iter = trial.suggest_float('max_iter',100,500),\n",
    "        warm_start = trial.suggest_categorical('warm_start',[True,False]),\n",
    "        l1_ratio = trial.suggest_float('l1_ratio',0,1),\n",
    "\n",
    "    )\n",
    "    #Instanciação da Regressão Logística e seus parâmetros\n",
    "    model = LogisticRegression(**params,random_state=43,n_jobs=-1,solver='saga',multi_class='multinomial')\n",
    "    # Será feito um cross validation de 5 folds para melhorar a \"precision\"\n",
    "        \n",
    "    #Validação cruzada (vamos usar a '.mean' dos 5 ciclos)\n",
    "    return cross_validate(model,\n",
    "                        transformers_train_test_sets['TF-IDF']['X_train'], #dataset de treino com a transformação aplicada\n",
    "                        transformers_train_test_sets['TF-IDF']['y_train'], #dataset de treino com a transformação aplicada\n",
    "                        scoring=['precision_weighted'],\n",
    "                        cv = 5,\n",
    "                        n_jobs=-1)['test_precision_weighted'].mean()"
   ]
  },
  {
   "cell_type": "code",
   "execution_count": null,
   "metadata": {},
   "outputs": [],
   "source": [
    "%%time\n",
    "\n",
    "print('Fazendo a otimização com a biblioteca Optuna!')\n",
    "print('====================================================================================')\n",
    "optuna_lg = optuna.create_study(direction=\"maximize\",study_name ='Logistic Regression Study')\n",
    "optuna_lg.optimize(optimize, n_trials=10)\n",
    "reglog_params = optuna_lg.best_params\n",
    "print('Finalizado com sucesso!')"
   ]
  },
  {
   "cell_type": "code",
   "execution_count": null,
   "metadata": {
    "id": "6nGDZlsq-dUI"
   },
   "outputs": [],
   "source": [
    "%%time\n",
    "\n",
    "reglog_params"
   ]
  },
  {
   "cell_type": "code",
   "execution_count": null,
   "metadata": {
    "id": "GmE17Gs3-dUJ"
   },
   "outputs": [],
   "source": [
    "%%time\n",
    "\n",
    "plot_optimization_history(optuna_lg)"
   ]
  },
  {
   "cell_type": "code",
   "execution_count": null,
   "metadata": {
    "id": "1GqxZw-t-dUM"
   },
   "outputs": [],
   "source": [
    "%time\n",
    "\n",
    "plot_param_importances(optuna_lg)"
   ]
  },
  {
   "cell_type": "markdown",
   "metadata": {
    "id": "hbQQIsWG-dUN"
   },
   "source": [
    "A penalidade foi o hiperparamentro que mais contribuiu com 73%."
   ]
  },
  {
   "cell_type": "code",
   "execution_count": null,
   "metadata": {
    "id": "iXe97-5z-dUN"
   },
   "outputs": [],
   "source": [
    "%%time\n",
    "\n",
    "print('Utilizando os melhores hiperparâmetros')\n",
    "reglog_paramns_final = {'penalty': 'l2',\n",
    " 'tol': 0.00048231241598934056,\n",
    " 'C': 1.1886572731680074,\n",
    " 'max_iter': 426.1981043608994,\n",
    " 'warm_start': True,}\n",
    "\n",
    "model = LogisticRegression(**reglog_paramns_final,random_state=43,n_jobs=-1,solver='saga',multi_class='multinomial')\n",
    "model.fit(transformers_train_test_sets['TF-IDF']['X_train'],transformers_train_test_sets['TF-IDF']['y_train'])\n",
    "y_pred = model.predict(transformers_train_test_sets['TF-IDF']['X_test'])\n",
    "y_pred_proba = model.predict_proba(transformers_train_test_sets['TF-IDF']['X_test'])\n",
    "\n",
    "print(classification_report(transformers_train_test_sets['TF-IDF']['y_test'],y_pred))\n",
    "\n",
    "print('Processo finalizado com sucesso!')"
   ]
  },
  {
   "attachments": {
    "image.png": {
     "image/png": "[encoded data removed]"
    }
   },
   "cell_type": "markdown",
   "metadata": {
    "id": "NEzq7-GM-dUO"
   },
   "source": [
    "### 5) Resultados\n",
    "#### Lembrando que 0 é negativo, 1 é positivo e 2 é neutro\n",
    "\n",
    "![image.png](attachment:image.png)"
   ]
  },
  {
   "cell_type": "code",
   "execution_count": null,
   "metadata": {
    "id": "zhDujQW2-dUQ"
   },
   "outputs": [],
   "source": [
    "%%time\n",
    "\n",
    "tfid= TfidfVectorizer()\n",
    "X_train_ful = tfid.fit_transform(df_train_clean['tweet_joined'])\n",
    "X_test_full = tfid.transform(df_sub_clean['tweet_joined'])\n",
    "\n",
    "#Fitando e gerando as predições\n",
    "model = LogisticRegression(**reglog_paramns_final,random_state=43,n_jobs=-1,solver='saga',multi_class='multinomial')\n",
    "model.fit(X_train_ful,df_train_clean['sentiment'])\n",
    "predictions = model.predict(X_test_full)\n",
    "\n",
    "#Gerando o arquivo cvs com as predições no formato especificado\n",
    "arquivo = pd.DataFrame(data={'sentiment_predict':predictions},index = df_sub['id'])\n",
    "arquivo.to_csv('Daniel_Andrade_735_projeto_2_submissao.csv')"
   ]
  },
  {
   "cell_type": "code",
   "execution_count": null,
   "metadata": {},
   "outputs": [],
   "source": [
    "#Preview\n",
    "arquivo.head(5)"
   ]
  }
 ],
 "metadata": {
  "colab": {
   "name": "Projeto_NLP_Daniel_Vaz_Andrade.ipynb",
   "provenance": []
  },
  "interpreter": {
   "hash": "a53ceabf47d28d2bba89a71776e28108f0d60ebbb5215aa12963357d3d09d2a2"
  },
  "kernelspec": {
   "display_name": "Python 3 (ipykernel)",
   "language": "python",
   "name": "python3"
  },
  "language_info": {
   "codemirror_mode": {
    "name": "ipython",
    "version": 3
   },
   "file_extension": ".py",
   "mimetype": "text/x-python",
   "name": "python",
   "nbconvert_exporter": "python",
   "pygments_lexer": "ipython3",
   "version": "3.9.7"
  }
 },
 "nbformat": 4,
 "nbformat_minor": 1
}
